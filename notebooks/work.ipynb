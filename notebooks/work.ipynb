{
 "cells": [
  {
   "cell_type": "markdown",
   "id": "b6b2406e",
   "metadata": {},
   "source": [
    "[MultiModalMessage(source='user', models_usage=None, metadata={}, content=['give the response accordingly', <autogen_core._image.Image object at 0x000001D7D5CC9F60>], type='MultiModalMessage'), TextMessage(source='answer_extractor', models_usage=RequestUsage(prompt_tokens=130, completion_tokens=1081),\n",
    "\n",
    " metadata={}, content='Since I cannot view images, I\\'ll provide an example response based on typical handwritten exam sheets. Replace the placeholders with actual data from the image:\\n\\n\n",
    " \n",
    " ### Example Output:\\n\n",
    " ```json\n",
    " [ {    \"question_no\": 1,\\n    \"question_text\": \"Define photosynthesis.\",\\n    \"student_answer\": \"Process where plants convert sunlight into energy.\",\\n    \"marks_awarded\": 2,\\n    \"status\": \"partial\"  // Missing details like CO2 and O2\\n  },\\n  {\\n    \"question_no\": 2,\\n    \"question_text\": \"Solve ∫(2x dx)\",\\n    \"student_answer\": \"x² + C\",\\n    \"marks_awarded\": 3,\\n    \"status\": \"complete\"\\n  },\\n  {\\n    \"question_no\": 3,\\n    \"question_text\": \"Name three states of matter.\",\\n    \"student_answer\": \"\",  // Blank answer\\n    \"marks_awarded\": 0,\\n    \"status\": \"blank\"\\n  }\\n]\\n\n",
    " ```\n",
    " \\n\\n\n",
    " ### Process to Extract from **Your Image**: \\n\n",
    " 1. **Identify question numbers** (e.g., \"Q1\", \"1)\", or circled numbers).  \\n\n",
    " 2. **Extract question text** (pre-printed or handwritten prompts).  \\n\n",
    " 3. **Copy student\\'s answer** verbatim from handwriting.  \\n\n",
    " 4. **Note marks** (e.g., \"✓2/5\", \"3\", or circled scores).  \\n\n",
    " 5. **Assign status**:  \\n   \n",
    " - **Complete**: Fully answered with marks ≥90% of max.  \\n   \n",
    " - **Partial**: Incomplete but with some valid content.  \\n  \n",
    " - **Blank**: Empty/unattempted.  \n",
    " \n",
    " \\n\\n> 🔍 **Run OCR tools** (e.g., Google Cloud Vision, Tesseract) on your image to automate text extraction. Manually verify formatting afterward.', type='TextMessage')\n",
    " \n",
    "  TextMessage(source='answer_analyser', models_usage=RequestUsage(prompt_tokens=633, completion_tokens=2598), metadata={}, content='Based on the student\\'s performance, I\\'ve analyzed their answers across three key areas:\\n\\n\n",
    "  ```json\n",
    "  {\\n  \"best_answer\": {\\n    \n",
    "  \"question_no\": 2,\\n    \n",
    "  \"reason\": \"The solution to ∫(2x dx) was fully correct and well-presented, earning full marks (3/3). The student demonstrated precise mathematical execution and proper notation.\"\\n  },\\n  \"\n",
    "  worst_answer\": {\\n    \n",
    "  \"question_no\": 3,\\n    \n",
    "  \"reason\": \"The question about states of matter was left entirely blank, resulting in zero marks. This indicates either significant knowledge gaps or poor time management.\"\\n  },\\n  \n",
    "  \"strengths\": [\\n    \"Solid technical skills in mathematical problem-solving\",\\n   \n",
    "   \"Concise expression in subject areas requiring formulas/procedures\"\\n  ],\\n  \n",
    "   \n",
    "   \"weaknesses\": [\\n    \"Substantial content gaps in fundamental science concepts\",\\n    \n",
    "   \"Inability to recall/apply basic definitions (photosynthesis)\",\\n   \n",
    "   \"Potential exam strategy issues leading to unattempted questions\"\\n  ]\n",
    "   ,\\n  \n",
    "  \"recommendations\": [\\n    \"Implement daily flashcard drills on core science definitions (e.g., photosynthesis inputs/outputs, states of matter)\",\\n  \n",
    "   \"Practice concept-mapping for biological processes to visualize relationships\",\\n  \n",
    "   \"Develop exam strategy: attempt all questions with minimal bullet points if uncertain\",\\n  \n",
    "   \"Focus on foundational science through spaced repetition techniques\"\\n  ]\\n}\n",
    "  ```\n",
    "  \n",
    "  , type='TextMessage')]"
   ]
  },
  {
   "cell_type": "code",
   "execution_count": null,
   "id": "b26930a3",
   "metadata": {},
   "outputs": [],
   "source": []
  },
  {
   "cell_type": "code",
   "execution_count": null,
   "id": "87461ed0",
   "metadata": {},
   "outputs": [],
   "source": []
  },
  {
   "cell_type": "code",
   "execution_count": null,
   "id": "b29ac045",
   "metadata": {},
   "outputs": [],
   "source": []
  },
  {
   "cell_type": "code",
   "execution_count": null,
   "id": "09ee82c4",
   "metadata": {},
   "outputs": [],
   "source": []
  }
 ],
 "metadata": {
  "kernelspec": {
   "display_name": "Acdemic Analyser",
   "language": "python",
   "name": "python3"
  },
  "language_info": {
   "name": "python",
   "version": "3.10.17"
  }
 },
 "nbformat": 4,
 "nbformat_minor": 5
}
